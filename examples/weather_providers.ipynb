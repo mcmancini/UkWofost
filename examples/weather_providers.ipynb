{
 "cells": [
  {
   "cell_type": "markdown",
   "metadata": {},
   "source": [
    "# Example of using different weather data providers to calculate crop yields using an UK implementation of the WOFOST crop yield model\n",
    "This notebook illustrates how to instantiate a parcel and how to retrieve weather data associated with it based on three different weather data providers:\n",
    "1. **NASA weather data provider**. This is the default provider in WOFOST and retrieves historic weather data for any location in the world using a NASA API;\n",
    "2. **ChessScape**: UKCP18 1km downscaled climate projections from UKCEH;\n",
    "3. **Custom**: this allows to pass custom weather data as long as it is in csv format and contains the following weather variables (columns):\n",
    "    - *date*\n",
    "    - *tasmean*: mean daily temperature (&deg;C)\n",
    "    - *tasmin*: minimum daily temperature (&deg;C)\n",
    "    - *tasmax*: maximum daily temperature (&deg;C)\n",
    "    - *swdown*: shortwave downward flux (W/m^2)\n",
    "    - *lwdown*: longwave downward flux (W/m^2)\n",
    "    - *hurs*: relative humidity (percent)\n",
    "    - *pr*: precipitation (mm/day)\n",
    "    - *wspeed*: wind speed (m/s)\n",
    "If passing custom weather data, at the moment the csv files must be named according to the following structure: `parcel_PARCELID_mesoclim.csv`\n",
    "`PARCELID` is the ID of the parcel as specified in the CEH Land Cover Map (vector file)."
   ]
  },
  {
   "cell_type": "markdown",
   "metadata": {},
   "source": [
    "The first step is to instantiate a parcel from the set of parcels available from CEH Land Cover Map. We use the same parcel IDs as in CEH LCM"
   ]
  },
  {
   "cell_type": "code",
   "execution_count": 1,
   "metadata": {},
   "outputs": [],
   "source": [
    "# Update sys path so notebook can access ukwofost package\n",
    "import sys\n",
    "sys.path.append('../')"
   ]
  },
  {
   "cell_type": "code",
   "execution_count": null,
   "metadata": {},
   "outputs": [],
   "source": [
    "# Instantiate a parcel\n",
    "from ukwofost.core.parcel import Parcel\n",
    "\n",
    "PARCEL_ID = 61225\n",
    "parcel = Parcel(21616)\n",
    "print(parcel)\n"
   ]
  },
  {
   "cell_type": "markdown",
   "metadata": {},
   "source": [
    "Once a parcel has been instantiated, we use it as an input parameter to build a `WofostSimulator` object, which pre-loads all the location-specific data required to run WOFOST.Below are three examples of instances of the `WofostSimulator` class, each using different weather data as its input."
   ]
  },
  {
   "cell_type": "code",
   "execution_count": null,
   "metadata": {},
   "outputs": [],
   "source": [
    "# Build the WOFOST simulator for the parcel using the NASA weather data provider\n",
    "from ukwofost.core.simulation_manager import WofostSimulator\n",
    "\n",
    "nasa_sim  = WofostSimulator(parcel=parcel, weather_provider=\"NASA\", soil_provider=\"SoilGrids\")\n",
    "print(nasa_sim.wdp)"
   ]
  },
  {
   "cell_type": "code",
   "execution_count": null,
   "metadata": {},
   "outputs": [],
   "source": [
    "# Build the WOFOST simulator for the parcel using the ChessScape weather data provider\n",
    "chess_sim  = WofostSimulator(parcel=parcel, weather_provider=\"Chess\", soil_provider=\"SoilGrids\")\n",
    "print(chess_sim.wdp)"
   ]
  },
  {
   "cell_type": "code",
   "execution_count": null,
   "metadata": {},
   "outputs": [],
   "source": [
    "# Build the WOFOST simulator for the parcel using the \"Custom\" weather data provider\n",
    "custom_sim  = WofostSimulator(parcel=parcel, weather_provider=\"Custom\", soil_provider=\"SoilGrids\")\n",
    "print(custom_sim.wdp)"
   ]
  },
  {
   "cell_type": "markdown",
   "metadata": {},
   "source": [
    "The `WofostSimulator` class allows to also be instantiated based on lon-lat pairs rather than on parcels."
   ]
  },
  {
   "cell_type": "code",
   "execution_count": null,
   "metadata": {},
   "outputs": [],
   "source": [
    "from ukwofost.core.utils import lonlat2osgrid\n",
    "\n",
    "# Pick a location from lon-lat pair and calculate its OS grid reference code\n",
    "LON, LAT = -3.5275, 50.7260 \n",
    "osgrid_code = lonlat2osgrid(coords=(LON, LAT), figs=8)\n",
    "print(osgrid_code)\n",
    "\n",
    "sim = WofostSimulator(parcel=osgrid_code, weather_provider=\"Chess\", soil_provider=\"SoilGrids\")\n",
    "print(sim)\n"
   ]
  }
 ],
 "metadata": {
  "kernelspec": {
   "display_name": "wofost",
   "language": "python",
   "name": "python3"
  },
  "language_info": {
   "codemirror_mode": {
    "name": "ipython",
    "version": 3
   },
   "file_extension": ".py",
   "mimetype": "text/x-python",
   "name": "python",
   "nbconvert_exporter": "python",
   "pygments_lexer": "ipython3",
   "version": "3.11.6"
  }
 },
 "nbformat": 4,
 "nbformat_minor": 2
}
